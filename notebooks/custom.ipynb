{
  "nbformat": 4,
  "nbformat_minor": 0,
  "metadata": {
    "colab": {
      "provenance": [],
      "toc_visible": true,
      "authorship_tag": "ABX9TyOs64R7SOVXrqE0KO9gRMls",
      "include_colab_link": true
    },
    "kernelspec": {
      "name": "python3",
      "display_name": "Python 3"
    },
    "language_info": {
      "name": "python"
    },
    "accelerator": "GPU",
    "gpuClass": "standard"
  },
  "cells": [
    {
      "cell_type": "markdown",
      "metadata": {
        "id": "view-in-github",
        "colab_type": "text"
      },
      "source": [
        "<a href=\"https://colab.research.google.com/github/SeverinSchmidt/brax/blob/main/notebooks/custom.ipynb\" target=\"_parent\"><img src=\"https://colab.research.google.com/assets/colab-badge.svg\" alt=\"Open In Colab\"/></a>"
      ]
    },
    {
      "cell_type": "code",
      "execution_count": 1,
      "metadata": {
        "colab": {
          "base_uri": "https://localhost:8080/"
        },
        "id": "S-OkTUywbybm",
        "outputId": "97e24a20-b8e4-4736-c37a-fc77c212563a"
      },
      "outputs": [
        {
          "output_type": "stream",
          "name": "stderr",
          "text": [
            "/usr/local/lib/python3.8/dist-packages/trimesh/curvature.py:12: DeprecationWarning: Please use `coo_matrix` from the `scipy.sparse` namespace, the `scipy.sparse.coo` namespace is deprecated.\n",
            "  from scipy.sparse.coo import coo_matrix\n",
            "/usr/local/lib/python3.8/dist-packages/jax/_src/deprecations.py:51: DeprecationWarning: jax.interpreters.xla.DeviceArray is deprecated. Use jax.Array instead.\n",
            "  warnings.warn(message, DeprecationWarning)\n"
          ]
        }
      ],
      "source": [
        "import functools\n",
        "import time\n",
        "\n",
        "from IPython.display import HTML, Image \n",
        "import gym\n",
        "\n",
        "from IPython.display import clear_output \n",
        "!pip install git+https://github.com/SeverinSchmidt/brax.git@main\n",
        "clear_output()\n",
        "import brax\n",
        "\n",
        "from brax import envs\n",
        "from brax import jumpy as jp\n",
        "from brax.envs import to_torch\n",
        "from brax.io import html\n",
        "from brax.io import image\n",
        "import jax\n",
        "from jax import numpy as jnp\n",
        "import torch\n",
        "v = torch.ones(1, device='cuda')  # init torch cuda before jax"
      ]
    },
    {
      "cell_type": "code",
      "source": [
        "environment = \"humanoid\"  # @param ['ant', 'halfcheetah', 'hopper', 'humanoid', 'reacher', 'walker2d', 'fetch', 'grasp', 'ur5e']\n",
        "env = envs.create(env_name=environment)\n",
        "state = env.reset(rng=jp.random_prngkey(seed=0))\n",
        "\n",
        "HTML(html.render(env.sys, [state.qp]))"
      ],
      "metadata": {
        "colab": {
          "base_uri": "https://localhost:8080/",
          "height": 480
        },
        "id": "CjLzzmH3eB3E",
        "outputId": "f9291694-389c-41da-dbab-a322b9e74f80"
      },
      "execution_count": 2,
      "outputs": [
        {
          "output_type": "execute_result",
          "data": {
            "text/plain": [
              "<IPython.core.display.HTML object>"
            ],
            "text/html": [
              "\n",
              "<html>\n",
              "  <head>\n",
              "    <title>brax visualizer</title>\n",
              "    <style>\n",
              "      body {\n",
              "        margin: 0;\n",
              "        padding: 0;\n",
              "      }\n",
              "      #brax-viewer {\n",
              "        margin: 0;\n",
              "        padding: 0;\n",
              "        height: 480px;\n",
              "      }\n",
              "    </style>\n",
              "  </head>\n",
              "  <body>\n",
              "    <script type=\"application/javascript\">\n",
              "    var system = {\"config\": {\"bodies\": [{\"name\": \"torso\", \"colliders\": [{\"position\": {\"x\": 0.0, \"y\": 0.0, \"z\": 0.0}, \"rotation\": {\"x\": -90.0, \"y\": 0.0, \"z\": 0.0}, \"capsule\": {\"radius\": 0.07, \"length\": 0.28, \"end\": 0}, \"material\": {\"friction\": 1.0, \"elasticity\": 0.0}, \"color\": \"\", \"hidden\": false, \"noContact\": false}, {\"position\": {\"z\": 0.19, \"x\": 0.0, \"y\": 0.0}, \"capsule\": {\"radius\": 0.09, \"length\": 0.18, \"end\": 0}, \"material\": {\"friction\": 1.0, \"elasticity\": 0.0}, \"color\": \"\", \"hidden\": false, \"noContact\": false}, {\"position\": {\"x\": -0.01, \"z\": -0.12, \"y\": 0.0}, \"rotation\": {\"x\": -90.0, \"y\": 0.0, \"z\": 0.0}, \"capsule\": {\"radius\": 0.06, \"length\": 0.24, \"end\": 0}, \"material\": {\"friction\": 1.0, \"elasticity\": 0.0}, \"color\": \"\", \"hidden\": false, \"noContact\": false}], \"inertia\": {\"x\": 1.0, \"y\": 1.0, \"z\": 1.0}, \"mass\": 8.907463, \"frozen\": {\"position\": {\"x\": 0.0, \"y\": 0.0, \"z\": 0.0}, \"rotation\": {\"x\": 0.0, \"y\": 0.0, \"z\": 0.0}, \"all\": false}}, {\"name\": \"lwaist\", \"colliders\": [{\"position\": {\"x\": 0.0, \"y\": 0.0, \"z\": 0.0}, \"rotation\": {\"x\": -90.0, \"y\": 0.0, \"z\": 0.0}, \"capsule\": {\"radius\": 0.06, \"length\": 0.24, \"end\": 0}, \"material\": {\"friction\": 1.0, \"elasticity\": 0.0}, \"color\": \"\", \"hidden\": false, \"noContact\": false}], \"inertia\": {\"x\": 1.0, \"y\": 1.0, \"z\": 1.0}, \"mass\": 2.2619467, \"frozen\": {\"position\": {\"x\": 0.0, \"y\": 0.0, \"z\": 0.0}, \"rotation\": {\"x\": 0.0, \"y\": 0.0, \"z\": 0.0}, \"all\": false}}, {\"name\": \"pelvis\", \"colliders\": [{\"position\": {\"x\": -0.02, \"y\": 0.0, \"z\": 0.0}, \"rotation\": {\"x\": -90.0, \"y\": 0.0, \"z\": 0.0}, \"capsule\": {\"radius\": 0.09, \"length\": 0.32, \"end\": 0}, \"material\": {\"friction\": 1.0, \"elasticity\": 0.0}, \"color\": \"\", \"hidden\": false, \"noContact\": false}], \"inertia\": {\"x\": 1.0, \"y\": 1.0, \"z\": 1.0}, \"mass\": 6.6161942, \"frozen\": {\"position\": {\"x\": 0.0, \"y\": 0.0, \"z\": 0.0}, \"rotation\": {\"x\": 0.0, \"y\": 0.0, \"z\": 0.0}, \"all\": false}}, {\"name\": \"right_thigh\", \"colliders\": [{\"position\": {\"y\": 0.005, \"z\": -0.17, \"x\": 0.0}, \"rotation\": {\"x\": -178.31532, \"y\": 0.0, \"z\": 0.0}, \"capsule\": {\"radius\": 0.06, \"length\": 0.46014702, \"end\": 0}, \"material\": {\"friction\": 1.0, \"elasticity\": 0.0}, \"color\": \"\", \"hidden\": false, \"noContact\": false}], \"inertia\": {\"x\": 1.0, \"y\": 1.0, \"z\": 1.0}, \"mass\": 4.751751, \"frozen\": {\"position\": {\"x\": 0.0, \"y\": 0.0, \"z\": 0.0}, \"rotation\": {\"x\": 0.0, \"y\": 0.0, \"z\": 0.0}, \"all\": false}}, {\"name\": \"right_shin\", \"colliders\": [{\"position\": {\"z\": -0.15, \"x\": 0.0, \"y\": 0.0}, \"rotation\": {\"x\": -180.0, \"y\": 0.0, \"z\": 0.0}, \"capsule\": {\"radius\": 0.049, \"length\": 0.398, \"end\": -1}, \"material\": {\"friction\": 1.0, \"elasticity\": 0.0}, \"color\": \"\", \"hidden\": false, \"noContact\": false}, {\"position\": {\"z\": -0.35, \"x\": 0.0, \"y\": 0.0}, \"capsule\": {\"radius\": 0.075, \"length\": 0.15, \"end\": 1}, \"material\": {\"friction\": 1.0, \"elasticity\": 0.0}, \"color\": \"\", \"hidden\": false, \"noContact\": false}], \"inertia\": {\"x\": 1.0, \"y\": 1.0, \"z\": 1.0}, \"mass\": 4.522842, \"frozen\": {\"position\": {\"x\": 0.0, \"y\": 0.0, \"z\": 0.0}, \"rotation\": {\"x\": 0.0, \"y\": 0.0, \"z\": 0.0}, \"all\": false}}, {\"name\": \"left_thigh\", \"colliders\": [{\"position\": {\"y\": -0.005, \"z\": -0.17, \"x\": 0.0}, \"rotation\": {\"x\": 178.31532, \"y\": 0.0, \"z\": 0.0}, \"capsule\": {\"radius\": 0.06, \"length\": 0.46014702, \"end\": 0}, \"material\": {\"friction\": 1.0, \"elasticity\": 0.0}, \"color\": \"\", \"hidden\": false, \"noContact\": false}], \"inertia\": {\"x\": 1.0, \"y\": 1.0, \"z\": 1.0}, \"mass\": 4.751751, \"frozen\": {\"position\": {\"x\": 0.0, \"y\": 0.0, \"z\": 0.0}, \"rotation\": {\"x\": 0.0, \"y\": 0.0, \"z\": 0.0}, \"all\": false}}, {\"name\": \"left_shin\", \"colliders\": [{\"position\": {\"z\": -0.15, \"x\": 0.0, \"y\": 0.0}, \"rotation\": {\"x\": -180.0, \"y\": 0.0, \"z\": 0.0}, \"capsule\": {\"radius\": 0.049, \"length\": 0.398, \"end\": -1}, \"material\": {\"friction\": 1.0, \"elasticity\": 0.0}, \"color\": \"\", \"hidden\": false, \"noContact\": false}, {\"position\": {\"z\": -0.35, \"x\": 0.0, \"y\": 0.0}, \"capsule\": {\"radius\": 0.075, \"length\": 0.15, \"end\": 1}, \"material\": {\"friction\": 1.0, \"elasticity\": 0.0}, \"color\": \"\", \"hidden\": false, \"noContact\": false}], \"inertia\": {\"x\": 1.0, \"y\": 1.0, \"z\": 1.0}, \"mass\": 4.522842, \"frozen\": {\"position\": {\"x\": 0.0, \"y\": 0.0, \"z\": 0.0}, \"rotation\": {\"x\": 0.0, \"y\": 0.0, \"z\": 0.0}, \"all\": false}}, {\"name\": \"right_upper_arm\", \"colliders\": [{\"position\": {\"x\": 0.08, \"y\": -0.08, \"z\": -0.08}, \"rotation\": {\"x\": 135.0, \"y\": 35.26439, \"z\": -75.0}, \"capsule\": {\"radius\": 0.04, \"length\": 0.35712814, \"end\": 0}, \"material\": {\"friction\": 1.0, \"elasticity\": 0.0}, \"color\": \"\", \"hidden\": false, \"noContact\": false}], \"inertia\": {\"x\": 1.0, \"y\": 1.0, \"z\": 1.0}, \"mass\": 1.6610805, \"frozen\": {\"position\": {\"x\": 0.0, \"y\": 0.0, \"z\": 0.0}, \"rotation\": {\"x\": 0.0, \"y\": 0.0, \"z\": 0.0}, \"all\": false}}, {\"name\": \"right_lower_arm\", \"colliders\": [{\"position\": {\"x\": 0.09, \"y\": 0.09, \"z\": 0.09}, \"rotation\": {\"x\": -45.0, \"y\": 35.26439, \"z\": 15.0}, \"capsule\": {\"radius\": 0.031, \"length\": 0.33912814, \"end\": 0}, \"material\": {\"friction\": 1.0, \"elasticity\": 0.0}, \"color\": \"\", \"hidden\": false, \"noContact\": false}, {\"position\": {\"x\": 0.18, \"y\": 0.18, \"z\": 0.18}, \"capsule\": {\"radius\": 0.04, \"length\": 0.08, \"end\": 0}, \"material\": {\"friction\": 1.0, \"elasticity\": 0.0}, \"color\": \"\", \"hidden\": false, \"noContact\": false}], \"inertia\": {\"x\": 1.0, \"y\": 1.0, \"z\": 1.0}, \"mass\": 1.2295402, \"frozen\": {\"position\": {\"x\": 0.0, \"y\": 0.0, \"z\": 0.0}, \"rotation\": {\"x\": 0.0, \"y\": 0.0, \"z\": 0.0}, \"all\": false}}, {\"name\": \"left_upper_arm\", \"colliders\": [{\"position\": {\"x\": 0.08, \"y\": 0.08, \"z\": -0.08}, \"rotation\": {\"x\": -135.0, \"y\": 35.26439, \"z\": 75.0}, \"capsule\": {\"radius\": 0.04, \"length\": 0.35712814, \"end\": 0}, \"material\": {\"friction\": 1.0, \"elasticity\": 0.0}, \"color\": \"\", \"hidden\": false, \"noContact\": false}], \"inertia\": {\"x\": 1.0, \"y\": 1.0, \"z\": 1.0}, \"mass\": 1.6610805, \"frozen\": {\"position\": {\"x\": 0.0, \"y\": 0.0, \"z\": 0.0}, \"rotation\": {\"x\": 0.0, \"y\": 0.0, \"z\": 0.0}, \"all\": false}}, {\"name\": \"left_lower_arm\", \"colliders\": [{\"position\": {\"x\": 0.09, \"y\": -0.09, \"z\": 0.09}, \"rotation\": {\"x\": 45.0, \"y\": 35.26439, \"z\": -15.0}, \"capsule\": {\"radius\": 0.031, \"length\": 0.33912814, \"end\": 0}, \"material\": {\"friction\": 1.0, \"elasticity\": 0.0}, \"color\": \"\", \"hidden\": false, \"noContact\": false}, {\"position\": {\"x\": 0.18, \"y\": -0.18, \"z\": 0.18}, \"capsule\": {\"radius\": 0.04, \"length\": 0.08, \"end\": 0}, \"material\": {\"friction\": 1.0, \"elasticity\": 0.0}, \"color\": \"\", \"hidden\": false, \"noContact\": false}], \"inertia\": {\"x\": 1.0, \"y\": 1.0, \"z\": 1.0}, \"mass\": 1.2295402, \"frozen\": {\"position\": {\"x\": 0.0, \"y\": 0.0, \"z\": 0.0}, \"rotation\": {\"x\": 0.0, \"y\": 0.0, \"z\": 0.0}, \"all\": false}}, {\"name\": \"floor\", \"colliders\": [{\"plane\": {}, \"material\": {\"friction\": 1.0, \"elasticity\": 0.0}, \"color\": \"\", \"hidden\": false, \"noContact\": false}], \"inertia\": {\"x\": 1.0, \"y\": 1.0, \"z\": 1.0}, \"mass\": 1.0, \"frozen\": {\"position\": {\"x\": 1.0, \"y\": 1.0, \"z\": 1.0}, \"rotation\": {\"x\": 1.0, \"y\": 1.0, \"z\": 1.0}, \"all\": true}}, {\"name\": \"Target\", \"colliders\": [{\"sphere\": {\"radius\": 2.0}, \"material\": {\"friction\": 1.0, \"elasticity\": 0.0}, \"color\": \"\", \"hidden\": false, \"noContact\": false}], \"inertia\": {\"x\": 1.0, \"y\": 1.0, \"z\": 1.0}, \"frozen\": {\"position\": {\"x\": 1.0, \"y\": 1.0, \"z\": 1.0}, \"rotation\": {\"x\": 1.0, \"y\": 1.0, \"z\": 1.0}, \"all\": true}, \"mass\": 0.0}], \"joints\": [{\"name\": \"abdomen_yz\", \"parent\": \"torso\", \"child\": \"lwaist\", \"parentOffset\": {\"x\": -0.01, \"z\": -0.195, \"y\": 0.0}, \"childOffset\": {\"z\": 0.065, \"x\": 0.0, \"y\": 0.0}, \"rotation\": {\"y\": -90.0, \"x\": 0.0, \"z\": 0.0}, \"angularDamping\": 30.0, \"angleLimit\": [{\"min\": -45.0, \"max\": 45.0}, {\"min\": -65.0, \"max\": 30.0}, {\"min\": 0.0, \"max\": 0.0}], \"stiffness\": 0.0}, {\"name\": \"abdomen_x\", \"parent\": \"lwaist\", \"child\": \"pelvis\", \"parentOffset\": {\"z\": -0.065, \"x\": 0.0, \"y\": 0.0}, \"childOffset\": {\"z\": 0.1, \"x\": 0.0, \"y\": 0.0}, \"rotation\": {\"x\": 90.0, \"y\": 0.0, \"z\": 0.0}, \"angularDamping\": 30.0, \"angleLimit\": [{\"min\": -35.0, \"max\": 35.0}, {\"min\": 0.0, \"max\": 0.0}, {\"min\": 0.0, \"max\": 0.0}], \"stiffness\": 0.0}, {\"name\": \"right_hip_xyz\", \"parent\": \"pelvis\", \"child\": \"right_thigh\", \"parentOffset\": {\"y\": -0.1, \"z\": -0.04, \"x\": 0.0}, \"childOffset\": {\"x\": 0.0, \"y\": 0.0, \"z\": 0.0}, \"rotation\": {\"x\": 0.0, \"y\": 0.0, \"z\": 0.0}, \"angularDamping\": 30.0, \"angleLimit\": [{\"min\": -10.0, \"max\": 10.0}, {\"min\": -30.0, \"max\": 70.0}, {\"min\": -10.0, \"max\": 10.0}], \"stiffness\": 0.0}, {\"name\": \"right_knee\", \"parent\": \"right_thigh\", \"child\": \"right_shin\", \"parentOffset\": {\"y\": 0.01, \"z\": -0.383, \"x\": 0.0}, \"childOffset\": {\"z\": 0.02, \"x\": 0.0, \"y\": 0.0}, \"rotation\": {\"z\": -90.0, \"x\": 0.0, \"y\": 0.0}, \"angularDamping\": 30.0, \"angleLimit\": [{\"min\": -160.0, \"max\": -2.0}, {\"min\": 0.0, \"max\": 0.0}, {\"min\": 0.0, \"max\": 0.0}], \"stiffness\": 0.0}, {\"name\": \"left_hip_xyz\", \"parent\": \"pelvis\", \"child\": \"left_thigh\", \"parentOffset\": {\"y\": 0.1, \"z\": -0.04, \"x\": 0.0}, \"childOffset\": {\"x\": 0.0, \"y\": 0.0, \"z\": 0.0}, \"angularDamping\": 30.0, \"angleLimit\": [{\"min\": -10.0, \"max\": 10.0}, {\"min\": -30.0, \"max\": 70.0}, {\"min\": -10.0, \"max\": 10.0}], \"stiffness\": 0.0}, {\"name\": \"left_knee\", \"parent\": \"left_thigh\", \"child\": \"left_shin\", \"parentOffset\": {\"y\": -0.01, \"z\": -0.383, \"x\": 0.0}, \"childOffset\": {\"z\": 0.02, \"x\": 0.0, \"y\": 0.0}, \"rotation\": {\"z\": -90.0, \"x\": 0.0, \"y\": 0.0}, \"angularDamping\": 30.0, \"angleLimit\": [{\"min\": -160.0, \"max\": -2.0}, {\"min\": 0.0, \"max\": 0.0}, {\"min\": 0.0, \"max\": 0.0}], \"stiffness\": 0.0}, {\"name\": \"right_shoulder12\", \"parent\": \"torso\", \"child\": \"right_upper_arm\", \"parentOffset\": {\"y\": -0.17, \"z\": 0.06, \"x\": 0.0}, \"childOffset\": {\"x\": 0.0, \"y\": 0.0, \"z\": 0.0}, \"rotation\": {\"x\": 135.0, \"y\": 35.26439, \"z\": 0.0}, \"angularDamping\": 30.0, \"angleLimit\": [{\"min\": -85.0, \"max\": 60.0}, {\"min\": -70.0, \"max\": 50.0}, {\"min\": 0.0, \"max\": 0.0}], \"stiffness\": 0.0}, {\"name\": \"right_elbow\", \"parent\": \"right_upper_arm\", \"child\": \"right_lower_arm\", \"parentOffset\": {\"x\": 0.18, \"y\": -0.18, \"z\": -0.18}, \"childOffset\": {\"x\": 0.0, \"y\": 0.0, \"z\": 0.0}, \"rotation\": {\"x\": 135.0, \"z\": 90.0, \"y\": 0.0}, \"angularDamping\": 30.0, \"angleLimit\": [{\"min\": -90.0, \"max\": 50.0}, {\"min\": 0.0, \"max\": 0.0}, {\"min\": 0.0, \"max\": 0.0}], \"stiffness\": 0.0}, {\"name\": \"left_shoulder12\", \"parent\": \"torso\", \"child\": \"left_upper_arm\", \"parentOffset\": {\"y\": 0.17, \"z\": 0.06, \"x\": 0.0}, \"childOffset\": {\"x\": 0.0, \"y\": 0.0, \"z\": 0.0}, \"rotation\": {\"x\": 45.0, \"y\": -35.26439, \"z\": 0.0}, \"angularDamping\": 30.0, \"angleLimit\": [{\"min\": -60.0, \"max\": 85.0}, {\"min\": -50.0, \"max\": 70.0}, {\"min\": 0.0, \"max\": 0.0}], \"stiffness\": 0.0}, {\"name\": \"left_elbow\", \"parent\": \"left_upper_arm\", \"child\": \"left_lower_arm\", \"parentOffset\": {\"x\": 0.18, \"y\": 0.18, \"z\": -0.18}, \"childOffset\": {\"x\": 0.0, \"y\": 0.0, \"z\": 0.0}, \"rotation\": {\"x\": 45.0, \"z\": -90.0, \"y\": 0.0}, \"angularDamping\": 30.0, \"angleLimit\": [{\"min\": -90.0, \"max\": 50.0}, {\"min\": 0.0, \"max\": 0.0}, {\"min\": 0.0, \"max\": 0.0}], \"stiffness\": 0.0}], \"actuators\": [{\"name\": \"abdomen_yz\", \"joint\": \"abdomen_yz\", \"strength\": 350.0, \"torque\": {}}, {\"name\": \"abdomen_x\", \"joint\": \"abdomen_x\", \"strength\": 350.0, \"torque\": {}}, {\"name\": \"right_hip_xyz\", \"joint\": \"right_hip_xyz\", \"strength\": 350.0, \"torque\": {}}, {\"name\": \"right_knee\", \"joint\": \"right_knee\", \"strength\": 350.0, \"torque\": {}}, {\"name\": \"left_hip_xyz\", \"joint\": \"left_hip_xyz\", \"strength\": 350.0, \"torque\": {}}, {\"name\": \"left_knee\", \"joint\": \"left_knee\", \"strength\": 350.0, \"torque\": {}}, {\"name\": \"right_shoulder12\", \"joint\": \"right_shoulder12\", \"strength\": 100.0, \"torque\": {}}, {\"name\": \"right_elbow\", \"joint\": \"right_elbow\", \"strength\": 100.0, \"torque\": {}}, {\"name\": \"left_shoulder12\", \"joint\": \"left_shoulder12\", \"strength\": 100.0, \"torque\": {}}, {\"name\": \"left_elbow\", \"joint\": \"left_elbow\", \"strength\": 100.0, \"torque\": {}}], \"friction\": 1.0, \"gravity\": {\"z\": -9.81, \"x\": 0.0, \"y\": 0.0}, \"angularDamping\": -0.05, \"collideInclude\": [{\"first\": \"floor\", \"second\": \"left_shin\"}, {\"first\": \"floor\", \"second\": \"right_shin\"}], \"dt\": 0.015, \"substeps\": 8, \"frozen\": {\"all\": false}, \"defaults\": [{\"angles\": [{\"name\": \"left_knee\", \"angle\": {\"x\": -25.0, \"y\": 0.0, \"z\": 0.0}}, {\"name\": \"right_knee\", \"angle\": {\"x\": -25.0, \"y\": 0.0, \"z\": 0.0}}], \"qps\": []}], \"dynamicsMode\": \"pbd\", \"solverScaleCollide\": 1.0, \"forces\": [], \"elasticity\": 0.0, \"velocityDamping\": 0.0, \"baumgarteErp\": 0.0, \"colliderCutoff\": 0, \"meshGeometries\": []}, \"pos\": [[[0.0, 0.0, 1.2416537962486207], [0.010136654609854415, -0.0001978627857141522, 0.9848518965495356], [0.06125553304090471, -0.0004062164872621171, 0.8279705388096643], [0.072756930556106, -0.1004060499591254, 0.7896592951950987], [0.05463612043310558, -0.09035292920267848, 0.38883583019260237], [0.07453991383813184, 0.09958522425224677, 0.7902182245472353], [0.0524349932337214, 0.08909610605559706, 0.3895581040355476], [0.0, -0.17000000178813934, 1.3016537949075162], [0.12828937010525246, -0.41302807110639206, 1.1544152036136501], [0.0, 0.17000000178813934, 1.3016537949075162], [0.12750224251881492, 0.41141991432047764, 1.1511226960929741], [0.0, 0.0, 0.0], [0.0, 0.0, 2.0]]], \"rot\": [[[1.0, 0.0, 0.0, 0.0], [0.9876111374644513, -0.0007705570677875237, -0.15684420719328368, -0.00485201688871488], [0.9876112033683523, 0.0006808695448903999, -0.15685116849896322, -0.004621508248172795], [0.9998895784479098, -0.00020877903268329355, 0.01231582560822734, -0.008313107852347937], [0.9737916959560415, 0.0015858155595952037, 0.22728964238655408, -0.008163120718218174], [0.9998312305440503, -0.0008683348654810913, 0.01703816912438712, -0.006815953067622877], [0.9734075912421244, 0.0005989291955703604, 0.2289769641045723, -0.006844889004019071], [0.9899743903667088, -0.0846627055300696, 0.010969365234125235, -0.11252824417341574], [0.960424254288571, -0.07112364897905456, 0.12036264795434064, -0.240913908497549], [0.9903965127602217, 0.08019628082287068, 0.014993081109187803, 0.11161770277793763], [0.960640559281772, 0.06737599452719524, 0.1244838634822146, 0.23902710925084655], [1.0, 0.0, 0.0, 0.0], [1.0, 0.0, 0.0, 0.0]]], \"debug\": false};\n",
              "    </script>\n",
              "    <div id=\"brax-viewer\"></div>\n",
              "    <script type=\"module\">\n",
              "      import {Viewer} from 'https://cdn.jsdelivr.net/gh/google/brax@v0.1.0/js/viewer.js';\n",
              "      const domElement = document.getElementById('brax-viewer');\n",
              "      var viewer = new Viewer(domElement, system);\n",
              "    </script>\n",
              "  </body>\n",
              "</html>\n"
            ]
          },
          "metadata": {},
          "execution_count": 2
        }
      ]
    },
    {
      "cell_type": "code",
      "source": [
        "from google.colab import drive\n",
        "drive.mount('/content/drive')"
      ],
      "metadata": {
        "id": "UkZ_oHWpfZk0"
      },
      "execution_count": null,
      "outputs": []
    }
  ]
}